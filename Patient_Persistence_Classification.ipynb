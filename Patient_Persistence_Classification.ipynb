{
 "cells": [
  {
   "cell_type": "markdown",
   "id": "7b611095",
   "metadata": {},
   "source": [
    "# Patient Persistence Classification Model"
   ]
  },
  {
   "cell_type": "markdown",
   "id": "b517f925",
   "metadata": {},
   "source": [
    "Step 1: Importing the basic necessary libraries"
   ]
  },
  {
   "cell_type": "code",
   "execution_count": 1,
   "id": "749b3180",
   "metadata": {},
   "outputs": [],
   "source": [
    "import pandas as pd\n",
    "import numpy as np\n",
    "import matplotlib.pyplot as plt\n",
    "import os"
   ]
  },
  {
   "cell_type": "code",
   "execution_count": 2,
   "id": "bf106993",
   "metadata": {},
   "outputs": [],
   "source": [
    "#Setting the working directory \n",
    "os.chdir(r'C:\\Users\\91962\\OneDrive - Kantar\\Desktop\\Aishwarya Roy Chowdhury')"
   ]
  },
  {
   "cell_type": "markdown",
   "id": "b56d84f9",
   "metadata": {},
   "source": [
    "Step 2: Importing and reading the data"
   ]
  },
  {
   "cell_type": "code",
   "execution_count": 3,
   "id": "2ec9c27c",
   "metadata": {},
   "outputs": [],
   "source": [
    "df = pd.read_excel(r'C:\\Users\\91962\\OneDrive - Kantar\\Desktop\\Aishwarya Roy Chowdhury\\Case Study\\Data.xlsx')"
   ]
  },
  {
   "cell_type": "code",
   "execution_count": 4,
   "id": "c002718c",
   "metadata": {},
   "outputs": [
    {
     "data": {
      "text/html": [
       "<div>\n",
       "<style scoped>\n",
       "    .dataframe tbody tr th:only-of-type {\n",
       "        vertical-align: middle;\n",
       "    }\n",
       "\n",
       "    .dataframe tbody tr th {\n",
       "        vertical-align: top;\n",
       "    }\n",
       "\n",
       "    .dataframe thead th {\n",
       "        text-align: right;\n",
       "    }\n",
       "</style>\n",
       "<table border=\"1\" class=\"dataframe\">\n",
       "  <thead>\n",
       "    <tr style=\"text-align: right;\">\n",
       "      <th></th>\n",
       "      <th>Ptid</th>\n",
       "      <th>Persistency_Flag</th>\n",
       "      <th>Gender</th>\n",
       "      <th>Race</th>\n",
       "      <th>Ethnicity</th>\n",
       "      <th>Region</th>\n",
       "      <th>Age_Bucket</th>\n",
       "      <th>Ntm_Speciality</th>\n",
       "      <th>Ntm_Specialist_Flag</th>\n",
       "      <th>Ntm_Speciality_Bucket</th>\n",
       "      <th>...</th>\n",
       "      <th>Risk_Family_History_Of_Osteoporosis</th>\n",
       "      <th>Risk_Low_Calcium_Intake</th>\n",
       "      <th>Risk_Vitamin_D_Insufficiency</th>\n",
       "      <th>Risk_Poor_Health_Frailty</th>\n",
       "      <th>Risk_Excessive_Thinness</th>\n",
       "      <th>Risk_Hysterectomy_Oophorectomy</th>\n",
       "      <th>Risk_Estrogen_Deficiency</th>\n",
       "      <th>Risk_Immobilization</th>\n",
       "      <th>Risk_Recurring_Falls</th>\n",
       "      <th>Count_Of_Risks</th>\n",
       "    </tr>\n",
       "  </thead>\n",
       "  <tbody>\n",
       "    <tr>\n",
       "      <th>0</th>\n",
       "      <td>P1</td>\n",
       "      <td>Persistent</td>\n",
       "      <td>Male</td>\n",
       "      <td>Caucasian</td>\n",
       "      <td>Not Hispanic</td>\n",
       "      <td>West</td>\n",
       "      <td>&gt;75</td>\n",
       "      <td>GENERAL PRACTITIONER</td>\n",
       "      <td>Others</td>\n",
       "      <td>OB/GYN/Others/PCP/Unknown</td>\n",
       "      <td>...</td>\n",
       "      <td>N</td>\n",
       "      <td>N</td>\n",
       "      <td>N</td>\n",
       "      <td>N</td>\n",
       "      <td>N</td>\n",
       "      <td>N</td>\n",
       "      <td>N</td>\n",
       "      <td>N</td>\n",
       "      <td>N</td>\n",
       "      <td>0</td>\n",
       "    </tr>\n",
       "    <tr>\n",
       "      <th>1</th>\n",
       "      <td>P2</td>\n",
       "      <td>Non-Persistent</td>\n",
       "      <td>Male</td>\n",
       "      <td>Asian</td>\n",
       "      <td>Not Hispanic</td>\n",
       "      <td>West</td>\n",
       "      <td>55-65</td>\n",
       "      <td>GENERAL PRACTITIONER</td>\n",
       "      <td>Others</td>\n",
       "      <td>OB/GYN/Others/PCP/Unknown</td>\n",
       "      <td>...</td>\n",
       "      <td>N</td>\n",
       "      <td>N</td>\n",
       "      <td>N</td>\n",
       "      <td>N</td>\n",
       "      <td>N</td>\n",
       "      <td>N</td>\n",
       "      <td>N</td>\n",
       "      <td>N</td>\n",
       "      <td>N</td>\n",
       "      <td>0</td>\n",
       "    </tr>\n",
       "    <tr>\n",
       "      <th>2</th>\n",
       "      <td>P3</td>\n",
       "      <td>Non-Persistent</td>\n",
       "      <td>Female</td>\n",
       "      <td>Other/Unknown</td>\n",
       "      <td>Hispanic</td>\n",
       "      <td>Midwest</td>\n",
       "      <td>65-75</td>\n",
       "      <td>GENERAL PRACTITIONER</td>\n",
       "      <td>Others</td>\n",
       "      <td>OB/GYN/Others/PCP/Unknown</td>\n",
       "      <td>...</td>\n",
       "      <td>N</td>\n",
       "      <td>Y</td>\n",
       "      <td>N</td>\n",
       "      <td>N</td>\n",
       "      <td>N</td>\n",
       "      <td>N</td>\n",
       "      <td>N</td>\n",
       "      <td>N</td>\n",
       "      <td>N</td>\n",
       "      <td>2</td>\n",
       "    </tr>\n",
       "    <tr>\n",
       "      <th>3</th>\n",
       "      <td>P4</td>\n",
       "      <td>Non-Persistent</td>\n",
       "      <td>Female</td>\n",
       "      <td>Caucasian</td>\n",
       "      <td>Not Hispanic</td>\n",
       "      <td>Midwest</td>\n",
       "      <td>&gt;75</td>\n",
       "      <td>GENERAL PRACTITIONER</td>\n",
       "      <td>Others</td>\n",
       "      <td>OB/GYN/Others/PCP/Unknown</td>\n",
       "      <td>...</td>\n",
       "      <td>N</td>\n",
       "      <td>N</td>\n",
       "      <td>N</td>\n",
       "      <td>N</td>\n",
       "      <td>N</td>\n",
       "      <td>N</td>\n",
       "      <td>N</td>\n",
       "      <td>N</td>\n",
       "      <td>N</td>\n",
       "      <td>1</td>\n",
       "    </tr>\n",
       "    <tr>\n",
       "      <th>4</th>\n",
       "      <td>P5</td>\n",
       "      <td>Non-Persistent</td>\n",
       "      <td>Female</td>\n",
       "      <td>Caucasian</td>\n",
       "      <td>Not Hispanic</td>\n",
       "      <td>Midwest</td>\n",
       "      <td>&gt;75</td>\n",
       "      <td>GENERAL PRACTITIONER</td>\n",
       "      <td>Others</td>\n",
       "      <td>OB/GYN/Others/PCP/Unknown</td>\n",
       "      <td>...</td>\n",
       "      <td>N</td>\n",
       "      <td>N</td>\n",
       "      <td>N</td>\n",
       "      <td>N</td>\n",
       "      <td>N</td>\n",
       "      <td>N</td>\n",
       "      <td>N</td>\n",
       "      <td>N</td>\n",
       "      <td>N</td>\n",
       "      <td>1</td>\n",
       "    </tr>\n",
       "  </tbody>\n",
       "</table>\n",
       "<p>5 rows × 69 columns</p>\n",
       "</div>"
      ],
      "text/plain": [
       "  Ptid Persistency_Flag  Gender           Race     Ethnicity   Region  \\\n",
       "0   P1       Persistent    Male      Caucasian  Not Hispanic     West   \n",
       "1   P2   Non-Persistent    Male          Asian  Not Hispanic     West   \n",
       "2   P3   Non-Persistent  Female  Other/Unknown      Hispanic  Midwest   \n",
       "3   P4   Non-Persistent  Female      Caucasian  Not Hispanic  Midwest   \n",
       "4   P5   Non-Persistent  Female      Caucasian  Not Hispanic  Midwest   \n",
       "\n",
       "  Age_Bucket        Ntm_Speciality Ntm_Specialist_Flag  \\\n",
       "0        >75  GENERAL PRACTITIONER              Others   \n",
       "1      55-65  GENERAL PRACTITIONER              Others   \n",
       "2      65-75  GENERAL PRACTITIONER              Others   \n",
       "3        >75  GENERAL PRACTITIONER              Others   \n",
       "4        >75  GENERAL PRACTITIONER              Others   \n",
       "\n",
       "       Ntm_Speciality_Bucket  ... Risk_Family_History_Of_Osteoporosis  \\\n",
       "0  OB/GYN/Others/PCP/Unknown  ...                                   N   \n",
       "1  OB/GYN/Others/PCP/Unknown  ...                                   N   \n",
       "2  OB/GYN/Others/PCP/Unknown  ...                                   N   \n",
       "3  OB/GYN/Others/PCP/Unknown  ...                                   N   \n",
       "4  OB/GYN/Others/PCP/Unknown  ...                                   N   \n",
       "\n",
       "  Risk_Low_Calcium_Intake  Risk_Vitamin_D_Insufficiency  \\\n",
       "0                       N                             N   \n",
       "1                       N                             N   \n",
       "2                       Y                             N   \n",
       "3                       N                             N   \n",
       "4                       N                             N   \n",
       "\n",
       "  Risk_Poor_Health_Frailty Risk_Excessive_Thinness  \\\n",
       "0                        N                       N   \n",
       "1                        N                       N   \n",
       "2                        N                       N   \n",
       "3                        N                       N   \n",
       "4                        N                       N   \n",
       "\n",
       "  Risk_Hysterectomy_Oophorectomy Risk_Estrogen_Deficiency Risk_Immobilization  \\\n",
       "0                              N                        N                   N   \n",
       "1                              N                        N                   N   \n",
       "2                              N                        N                   N   \n",
       "3                              N                        N                   N   \n",
       "4                              N                        N                   N   \n",
       "\n",
       "  Risk_Recurring_Falls Count_Of_Risks  \n",
       "0                    N              0  \n",
       "1                    N              0  \n",
       "2                    N              2  \n",
       "3                    N              1  \n",
       "4                    N              1  \n",
       "\n",
       "[5 rows x 69 columns]"
      ]
     },
     "execution_count": 4,
     "metadata": {},
     "output_type": "execute_result"
    }
   ],
   "source": [
    "#Our data has 3424 rows and 69 columns\n",
    "df.head()"
   ]
  },
  {
   "cell_type": "code",
   "execution_count": 5,
   "id": "a6ae3dec",
   "metadata": {},
   "outputs": [
    {
     "data": {
      "text/html": [
       "<div>\n",
       "<style scoped>\n",
       "    .dataframe tbody tr th:only-of-type {\n",
       "        vertical-align: middle;\n",
       "    }\n",
       "\n",
       "    .dataframe tbody tr th {\n",
       "        vertical-align: top;\n",
       "    }\n",
       "\n",
       "    .dataframe thead th {\n",
       "        text-align: right;\n",
       "    }\n",
       "</style>\n",
       "<table border=\"1\" class=\"dataframe\">\n",
       "  <thead>\n",
       "    <tr style=\"text-align: right;\">\n",
       "      <th></th>\n",
       "      <th>Dexa_Freq_During_Rx</th>\n",
       "      <th>Count_Of_Risks</th>\n",
       "    </tr>\n",
       "  </thead>\n",
       "  <tbody>\n",
       "    <tr>\n",
       "      <th>count</th>\n",
       "      <td>3424.000000</td>\n",
       "      <td>3424.000000</td>\n",
       "    </tr>\n",
       "    <tr>\n",
       "      <th>mean</th>\n",
       "      <td>3.016063</td>\n",
       "      <td>1.239486</td>\n",
       "    </tr>\n",
       "    <tr>\n",
       "      <th>std</th>\n",
       "      <td>8.136545</td>\n",
       "      <td>1.094914</td>\n",
       "    </tr>\n",
       "    <tr>\n",
       "      <th>min</th>\n",
       "      <td>0.000000</td>\n",
       "      <td>0.000000</td>\n",
       "    </tr>\n",
       "    <tr>\n",
       "      <th>25%</th>\n",
       "      <td>0.000000</td>\n",
       "      <td>0.000000</td>\n",
       "    </tr>\n",
       "    <tr>\n",
       "      <th>50%</th>\n",
       "      <td>0.000000</td>\n",
       "      <td>1.000000</td>\n",
       "    </tr>\n",
       "    <tr>\n",
       "      <th>75%</th>\n",
       "      <td>3.000000</td>\n",
       "      <td>2.000000</td>\n",
       "    </tr>\n",
       "    <tr>\n",
       "      <th>max</th>\n",
       "      <td>146.000000</td>\n",
       "      <td>7.000000</td>\n",
       "    </tr>\n",
       "  </tbody>\n",
       "</table>\n",
       "</div>"
      ],
      "text/plain": [
       "       Dexa_Freq_During_Rx  Count_Of_Risks\n",
       "count          3424.000000     3424.000000\n",
       "mean              3.016063        1.239486\n",
       "std               8.136545        1.094914\n",
       "min               0.000000        0.000000\n",
       "25%               0.000000        0.000000\n",
       "50%               0.000000        1.000000\n",
       "75%               3.000000        2.000000\n",
       "max             146.000000        7.000000"
      ]
     },
     "execution_count": 5,
     "metadata": {},
     "output_type": "execute_result"
    }
   ],
   "source": [
    "#Running Summary Statistics for numerical variables\n",
    "df.describe()"
   ]
  },
  {
   "cell_type": "code",
   "execution_count": 6,
   "id": "b896d095",
   "metadata": {},
   "outputs": [
    {
     "name": "stdout",
     "output_type": "stream",
     "text": [
      "<class 'pandas.core.frame.DataFrame'>\n",
      "RangeIndex: 3424 entries, 0 to 3423\n",
      "Data columns (total 69 columns):\n",
      " #   Column                                                              Non-Null Count  Dtype \n",
      "---  ------                                                              --------------  ----- \n",
      " 0   Ptid                                                                3424 non-null   object\n",
      " 1   Persistency_Flag                                                    3424 non-null   object\n",
      " 2   Gender                                                              3424 non-null   object\n",
      " 3   Race                                                                3424 non-null   object\n",
      " 4   Ethnicity                                                           3424 non-null   object\n",
      " 5   Region                                                              3424 non-null   object\n",
      " 6   Age_Bucket                                                          3424 non-null   object\n",
      " 7   Ntm_Speciality                                                      3424 non-null   object\n",
      " 8   Ntm_Specialist_Flag                                                 3424 non-null   object\n",
      " 9   Ntm_Speciality_Bucket                                               3424 non-null   object\n",
      " 10  Gluco_Record_Prior_Ntm                                              3424 non-null   object\n",
      " 11  Gluco_Record_During_Rx                                              3424 non-null   object\n",
      " 12  Dexa_Freq_During_Rx                                                 3424 non-null   int64 \n",
      " 13  Dexa_During_Rx                                                      3424 non-null   object\n",
      " 14  Frag_Frac_Prior_Ntm                                                 3424 non-null   object\n",
      " 15  Frag_Frac_During_Rx                                                 3424 non-null   object\n",
      " 16  Risk_Segment_Prior_Ntm                                              3424 non-null   object\n",
      " 17  Tscore_Bucket_Prior_Ntm                                             3424 non-null   object\n",
      " 18  Risk_Segment_During_Rx                                              3424 non-null   object\n",
      " 19  Tscore_Bucket_During_Rx                                             3424 non-null   object\n",
      " 20  Change_T_Score                                                      3424 non-null   object\n",
      " 21  Change_Risk_Segment                                                 3424 non-null   object\n",
      " 22  Adherent_Flag                                                       3424 non-null   object\n",
      " 23  Idn_Indicator                                                       3424 non-null   object\n",
      " 24  Injectable_Experience_During_Rx                                     3424 non-null   object\n",
      " 25  Comorb_Encounter_For_Screening_For_Malignant_Neoplasms              3424 non-null   object\n",
      " 26  Comorb_Encounter_For_Immunization                                   3424 non-null   object\n",
      " 27  Comorb_Encntr_For_General_Exam_W_O_Complaint,_Susp_Or_Reprtd_Dx     3424 non-null   object\n",
      " 28  Comorb_Vitamin_D_Deficiency                                         3424 non-null   object\n",
      " 29  Comorb_Other_Joint_Disorder_Not_Elsewhere_Classified                3424 non-null   object\n",
      " 30  Comorb_Encntr_For_Oth_Sp_Exam_W_O_Complaint_Suspected_Or_Reprtd_Dx  3424 non-null   object\n",
      " 31  Comorb_Long_Term_Current_Drug_Therapy                               3424 non-null   object\n",
      " 32  Comorb_Dorsalgia                                                    3424 non-null   object\n",
      " 33  Comorb_Personal_History_Of_Other_Diseases_And_Conditions            3424 non-null   object\n",
      " 34  Comorb_Other_Disorders_Of_Bone_Density_And_Structure                3424 non-null   object\n",
      " 35  Comorb_Disorders_of_lipoprotein_metabolism_and_other_lipidemias     3424 non-null   object\n",
      " 36  Comorb_Osteoporosis_without_current_pathological_fracture           3424 non-null   object\n",
      " 37  Comorb_Personal_history_of_malignant_neoplasm                       3424 non-null   object\n",
      " 38  Comorb_Gastro_esophageal_reflux_disease                             3424 non-null   object\n",
      " 39  Concom_Cholesterol_And_Triglyceride_Regulating_Preparations         3424 non-null   object\n",
      " 40  Concom_Narcotics                                                    3424 non-null   object\n",
      " 41  Concom_Systemic_Corticosteroids_Plain                               3424 non-null   object\n",
      " 42  Concom_Anti_Depressants_And_Mood_Stabilisers                        3424 non-null   object\n",
      " 43  Concom_Fluoroquinolones                                             3424 non-null   object\n",
      " 44  Concom_Cephalosporins                                               3424 non-null   object\n",
      " 45  Concom_Macrolides_And_Similar_Types                                 3424 non-null   object\n",
      " 46  Concom_Broad_Spectrum_Penicillins                                   3424 non-null   object\n",
      " 47  Concom_Anaesthetics_General                                         3424 non-null   object\n",
      " 48  Concom_Viral_Vaccines                                               3424 non-null   object\n",
      " 49  Risk_Type_1_Insulin_Dependent_Diabetes                              3424 non-null   object\n",
      " 50  Risk_Osteogenesis_Imperfecta                                        3424 non-null   object\n",
      " 51  Risk_Rheumatoid_Arthritis                                           3424 non-null   object\n",
      " 52  Risk_Untreated_Chronic_Hyperthyroidism                              3424 non-null   object\n",
      " 53  Risk_Untreated_Chronic_Hypogonadism                                 3424 non-null   object\n",
      " 54  Risk_Untreated_Early_Menopause                                      3424 non-null   object\n",
      " 55  Risk_Patient_Parent_Fractured_Their_Hip                             3424 non-null   object\n",
      " 56  Risk_Smoking_Tobacco                                                3424 non-null   object\n",
      " 57  Risk_Chronic_Malnutrition_Or_Malabsorption                          3424 non-null   object\n",
      " 58  Risk_Chronic_Liver_Disease                                          3424 non-null   object\n",
      " 59  Risk_Family_History_Of_Osteoporosis                                 3424 non-null   object\n",
      " 60  Risk_Low_Calcium_Intake                                             3424 non-null   object\n",
      " 61  Risk_Vitamin_D_Insufficiency                                        3424 non-null   object\n",
      " 62  Risk_Poor_Health_Frailty                                            3424 non-null   object\n",
      " 63  Risk_Excessive_Thinness                                             3424 non-null   object\n",
      " 64  Risk_Hysterectomy_Oophorectomy                                      3424 non-null   object\n",
      " 65  Risk_Estrogen_Deficiency                                            3424 non-null   object\n",
      " 66  Risk_Immobilization                                                 3424 non-null   object\n",
      " 67  Risk_Recurring_Falls                                                3424 non-null   object\n",
      " 68  Count_Of_Risks                                                      3424 non-null   int64 \n",
      "dtypes: int64(2), object(67)\n",
      "memory usage: 1.8+ MB\n"
     ]
    }
   ],
   "source": [
    "df.info()"
   ]
  },
  {
   "cell_type": "markdown",
   "id": "f5b683ad",
   "metadata": {},
   "source": [
    "Step 3: Data Pre-Processing"
   ]
  },
  {
   "cell_type": "code",
   "execution_count": 7,
   "id": "73ea85f0",
   "metadata": {},
   "outputs": [
    {
     "data": {
      "text/plain": [
       "Ptid                              0\n",
       "Persistency_Flag                  0\n",
       "Gender                            0\n",
       "Race                              0\n",
       "Ethnicity                         0\n",
       "                                 ..\n",
       "Risk_Hysterectomy_Oophorectomy    0\n",
       "Risk_Estrogen_Deficiency          0\n",
       "Risk_Immobilization               0\n",
       "Risk_Recurring_Falls              0\n",
       "Count_Of_Risks                    0\n",
       "Length: 69, dtype: int64"
      ]
     },
     "execution_count": 7,
     "metadata": {},
     "output_type": "execute_result"
    }
   ],
   "source": [
    "#Checking for missing values\n",
    "#Our data does not have any missing values (Thank God!)\n",
    "df.isna().sum()"
   ]
  },
  {
   "cell_type": "code",
   "execution_count": 8,
   "id": "e5ec9deb",
   "metadata": {
    "scrolled": true
   },
   "outputs": [
    {
     "name": "stdout",
     "output_type": "stream",
     "text": [
      "Persistency_Flag\n",
      "Non-Persistent    2135\n",
      "Persistent        1289\n",
      "dtype: int64\n"
     ]
    },
    {
     "data": {
      "text/plain": [
       "<AxesSubplot:xlabel='Persistency_Flag', ylabel='count'>"
      ]
     },
     "execution_count": 8,
     "metadata": {},
     "output_type": "execute_result"
    },
    {
     "data": {
      "image/png": "[encoded data removed]",
      "text/plain": [
       "<Figure size 432x288 with 1 Axes>"
      ]
     },
     "metadata": {
      "needs_background": "light"
     },
     "output_type": "display_data"
    }
   ],
   "source": [
    "#Checking the distribution of the target variable, i.e., Persistency Flag \n",
    "#There are more non-persistent tags compared to persistent\n",
    "\n",
    "print(df.value_counts('Persistency_Flag'))\n",
    "\n",
    "import seaborn as sns\n",
    "sns.countplot(x=\"Persistency_Flag\",data=df)"
   ]
  },
  {
   "cell_type": "markdown",
   "id": "fdadb15d",
   "metadata": {},
   "source": [
    "Step 4: Data Preparation"
   ]
  },
  {
   "cell_type": "code",
   "execution_count": 9,
   "id": "41e8d851",
   "metadata": {},
   "outputs": [
    {
     "data": {
      "image/png": "[encoded data removed]",
      "text/plain": [
       "<Figure size 432x288 with 2 Axes>"
      ]
     },
     "metadata": {
      "needs_background": "light"
     },
     "output_type": "display_data"
    }
   ],
   "source": [
    "#Using box plot to check if our numerical features are normally distributed\n",
    "numeric_df=['Dexa_Freq_During_Rx','Count_Of_Risks']\n",
    "fig, axes = plt.subplots(2, 1)\n",
    "for i, c in enumerate(numeric_df):\n",
    "    f = df[[c]].boxplot(ax=axes[i], vert=False)"
   ]
  },
  {
   "cell_type": "code",
   "execution_count": 10,
   "id": "d3ceb3cd",
   "metadata": {},
   "outputs": [
    {
     "data": {
      "image/png": "[encoded data removed]",
      "text/plain": [
       "<Figure size 432x288 with 2 Axes>"
      ]
     },
     "metadata": {
      "needs_background": "light"
     },
     "output_type": "display_data"
    }
   ],
   "source": [
    "fig, axes = plt.subplots(2, 1)\n",
    "for i, c in enumerate(numeric_df):\n",
    "    f = df[[c]].plot(kind='kde',ax=axes[i])"
   ]
  },
  {
   "cell_type": "code",
   "execution_count": 11,
   "id": "93a6b53e",
   "metadata": {},
   "outputs": [],
   "source": [
    "#Both our numerical features have outliers, hence, we have to treat them accordingly\n",
    "#We use Interquartile Range (IQR) to remove outliers \n",
    "#Here, we replace outliers with upper limit value if it exceeds upper limit \n",
    "#We replace outliers with lower limit value if it exceeds lower limit \n",
    "\n",
    "#Outlier treatment for Dexa_Freq_During_Rx\n",
    "for x in ['Dexa_Freq_During_Rx']:\n",
    "    q75,q25 = np.percentile(df.loc[:,x],[75,25])\n",
    "    intr_qr = q75-q25\n",
    " \n",
    "    max = q75+(1.5*intr_qr)\n",
    "    min = q25-(1.5*intr_qr)\n",
    " \n",
    "    df.loc[df[x] < min,x] = min\n",
    "    df.loc[df[x] > max,x] = max\n",
    "    \n",
    "#Outlier treatment for Count_Of_Risks\n",
    "for x in ['Count_Of_Risks']:\n",
    "    q75,q25 = np.percentile(df.loc[:,x],[75,25])\n",
    "    intr_qr = q75-q25\n",
    " \n",
    "    max = q75+(1.5*intr_qr)\n",
    "    min = q25-(1.5*intr_qr)\n",
    " \n",
    "    df.loc[df[x] < min,x] = min\n",
    "    df.loc[df[x] > max,x] = max"
   ]
  },
  {
   "cell_type": "code",
   "execution_count": 12,
   "id": "b9d7ffbf",
   "metadata": {},
   "outputs": [
    {
     "data": {
      "image/png": "[encoded data removed]",
      "text/plain": [
       "<Figure size 432x288 with 2 Axes>"
      ]
     },
     "metadata": {
      "needs_background": "light"
     },
     "output_type": "display_data"
    }
   ],
   "source": [
    "#Checking for correlation between numeric variables and if multicollinearity exists\n",
    "#Plotting the correlation heatmap\n",
    "#The numerical features are not correlated, and hence, multicollinearity is not a problem\n",
    "ax = sns.heatmap(df.corr(), annot=True)"
   ]
  },
  {
   "cell_type": "code",
   "execution_count": 13,
   "id": "c14ab5cb",
   "metadata": {},
   "outputs": [
    {
     "name": "stdout",
     "output_type": "stream",
     "text": [
      "Persistency_Flag\n",
      "Non-Persistent    62.353972\n",
      "Persistent        37.646028\n",
      "Name: Persistency_Flag, dtype: float64\n",
      "Gender\n",
      "Female    94.334112\n",
      "Male       5.665888\n",
      "Name: Gender, dtype: float64\n",
      "Race\n",
      "Caucasian           91.939252\n",
      "Other/Unknown        2.832944\n",
      "African American     2.774533\n",
      "Asian                2.453271\n",
      "Name: Race, dtype: float64\n",
      "Ethnicity\n",
      "Not Hispanic    94.48014\n",
      "Hispanic         2.86215\n",
      "Unknown          2.65771\n",
      "Name: Ethnicity, dtype: float64\n",
      "Region\n",
      "Midwest          40.391355\n",
      "South            36.419393\n",
      "West             14.661215\n",
      "Northeast         6.775701\n",
      "Other/Unknown     1.752336\n",
      "Name: Region, dtype: float64\n",
      "Age_Bucket\n",
      ">75      42.026869\n",
      "65-75    31.717290\n",
      "55-65    21.407710\n",
      "<55       4.848131\n",
      "Name: Age_Bucket, dtype: float64\n",
      "Ntm_Speciality\n",
      "GENERAL PRACTITIONER                                              44.830607\n",
      "RHEUMATOLOGY                                                      17.640187\n",
      "ENDOCRINOLOGY                                                     13.376168\n",
      "Unknown                                                            9.053738\n",
      "ONCOLOGY                                                           6.571262\n",
      "OBSTETRICS AND GYNECOLOGY                                          2.628505\n",
      "UROLOGY                                                            0.963785\n",
      "ORTHOPEDIC SURGERY                                                 0.876168\n",
      "CARDIOLOGY                                                         0.642523\n",
      "PATHOLOGY                                                          0.467290\n",
      "HEMATOLOGY & ONCOLOGY                                              0.408879\n",
      "OTOLARYNGOLOGY                                                     0.408879\n",
      "PEDIATRICS                                                         0.379673\n",
      "PHYSICAL MEDICINE AND REHABILITATION                               0.321262\n",
      "PULMONARY MEDICINE                                                 0.233645\n",
      "SURGERY AND SURGICAL SPECIALTIES                                   0.233645\n",
      "PSYCHIATRY AND NEUROLOGY                                           0.116822\n",
      "NEPHROLOGY                                                         0.087617\n",
      "ORTHOPEDICS                                                        0.087617\n",
      "GERIATRIC MEDICINE                                                 0.058411\n",
      "TRANSPLANT SURGERY                                                 0.058411\n",
      "HOSPICE AND PALLIATIVE MEDICINE                                    0.058411\n",
      "GASTROENTEROLOGY                                                   0.058411\n",
      "PLASTIC SURGERY                                                    0.058411\n",
      "VASCULAR SURGERY                                                   0.058411\n",
      "RADIOLOGY                                                          0.029206\n",
      "PAIN MEDICINE                                                      0.029206\n",
      "CLINICAL NURSE SPECIALIST                                          0.029206\n",
      "OPHTHALMOLOGY                                                      0.029206\n",
      "OCCUPATIONAL MEDICINE                                              0.029206\n",
      "HOSPITAL MEDICINE                                                  0.029206\n",
      "NUCLEAR MEDICINE                                                   0.029206\n",
      "OBSTETRICS & OBSTETRICS & GYNECOLOGY & OBSTETRICS & GYNECOLOGY     0.029206\n",
      "PODIATRY                                                           0.029206\n",
      "NEUROLOGY                                                          0.029206\n",
      "EMERGENCY MEDICINE                                                 0.029206\n",
      "Name: Ntm_Speciality, dtype: float64\n",
      "Ntm_Specialist_Flag\n",
      "Others        58.790888\n",
      "Specialist    41.209112\n",
      "Name: Ntm_Specialist_Flag, dtype: float64\n",
      "Ntm_Speciality_Bucket\n",
      "OB/GYN/Others/PCP/Unknown    61.448598\n",
      "Endo/Onc/Uro                 20.911215\n",
      "Rheum                        17.640187\n",
      "Name: Ntm_Speciality_Bucket, dtype: float64\n",
      "Gluco_Record_Prior_Ntm\n",
      "N    76.489486\n",
      "Y    23.510514\n",
      "Name: Gluco_Record_Prior_Ntm, dtype: float64\n",
      "Gluco_Record_During_Rx\n",
      "N    73.656542\n",
      "Y    26.343458\n",
      "Name: Gluco_Record_During_Rx, dtype: float64\n",
      "Dexa_During_Rx\n",
      "N    72.663551\n",
      "Y    27.336449\n",
      "Name: Dexa_During_Rx, dtype: float64\n",
      "Frag_Frac_Prior_Ntm\n",
      "N    83.878505\n",
      "Y    16.121495\n",
      "Name: Frag_Frac_Prior_Ntm, dtype: float64\n",
      "Frag_Frac_During_Rx\n",
      "N    87.821262\n",
      "Y    12.178738\n",
      "Name: Frag_Frac_During_Rx, dtype: float64\n",
      "Risk_Segment_Prior_Ntm\n",
      "VLR_LR    56.396028\n",
      "HR_VHR    43.603972\n",
      "Name: Risk_Segment_Prior_Ntm, dtype: float64\n",
      "Tscore_Bucket_Prior_Ntm\n",
      ">-2.5     56.98014\n",
      "<=-2.5    43.01986\n",
      "Name: Tscore_Bucket_Prior_Ntm, dtype: float64\n",
      "Risk_Segment_During_Rx\n",
      "Unknown    43.720794\n",
      "HR_VHR     28.183411\n",
      "VLR_LR     28.095794\n",
      "Name: Risk_Segment_During_Rx, dtype: float64\n",
      "Tscore_Bucket_During_Rx\n",
      "Unknown    43.720794\n",
      "<=-2.5     29.702103\n",
      ">-2.5      26.577103\n",
      "Name: Tscore_Bucket_During_Rx, dtype: float64\n",
      "Change_T_Score\n",
      "No change    48.481308\n",
      "Unknown      43.720794\n",
      "Worsened      5.052570\n",
      "Improved      2.745327\n",
      "Name: Change_T_Score, dtype: float64\n",
      "Change_Risk_Segment\n",
      "Unknown      65.099299\n",
      "No change    30.724299\n",
      "Worsened      3.533879\n",
      "Improved      0.642523\n",
      "Name: Change_Risk_Segment, dtype: float64\n",
      "Adherent_Flag\n",
      "Adherent        94.94743\n",
      "Non-Adherent     5.05257\n",
      "Name: Adherent_Flag, dtype: float64\n",
      "Idn_Indicator\n",
      "Y    74.678738\n",
      "N    25.321262\n",
      "Name: Idn_Indicator, dtype: float64\n",
      "Injectable_Experience_During_Rx\n",
      "Y    89.252336\n",
      "N    10.747664\n",
      "Name: Injectable_Experience_During_Rx, dtype: float64\n",
      "Comorb_Encounter_For_Screening_For_Malignant_Neoplasms\n",
      "N    55.227804\n",
      "Y    44.772196\n",
      "Name: Comorb_Encounter_For_Screening_For_Malignant_Neoplasms, dtype: float64\n",
      "Comorb_Encounter_For_Immunization\n",
      "N    55.811916\n",
      "Y    44.188084\n",
      "Name: Comorb_Encounter_For_Immunization, dtype: float64\n",
      "Comorb_Encntr_For_General_Exam_W_O_Complaint,_Susp_Or_Reprtd_Dx\n",
      "N    60.514019\n",
      "Y    39.485981\n",
      "Name: Comorb_Encntr_For_General_Exam_W_O_Complaint,_Susp_Or_Reprtd_Dx, dtype: float64\n",
      "Comorb_Vitamin_D_Deficiency\n",
      "N    68.078271\n",
      "Y    31.921729\n",
      "Name: Comorb_Vitamin_D_Deficiency, dtype: float64\n",
      "Comorb_Other_Joint_Disorder_Not_Elsewhere_Classified\n",
      "N    70.823598\n",
      "Y    29.176402\n",
      "Name: Comorb_Other_Joint_Disorder_Not_Elsewhere_Classified, dtype: float64\n",
      "Comorb_Encntr_For_Oth_Sp_Exam_W_O_Complaint_Suspected_Or_Reprtd_Dx\n",
      "N    76.898364\n",
      "Y    23.101636\n",
      "Name: Comorb_Encntr_For_Oth_Sp_Exam_W_O_Complaint_Suspected_Or_Reprtd_Dx, dtype: float64\n",
      "Comorb_Long_Term_Current_Drug_Therapy\n",
      "N    76.139019\n",
      "Y    23.860981\n",
      "Name: Comorb_Long_Term_Current_Drug_Therapy, dtype: float64\n",
      "Comorb_Dorsalgia\n",
      "N    77.248832\n",
      "Y    22.751168\n",
      "Name: Comorb_Dorsalgia, dtype: float64\n",
      "Comorb_Personal_History_Of_Other_Diseases_And_Conditions\n",
      "N    80.227804\n",
      "Y    19.772196\n",
      "Name: Comorb_Personal_History_Of_Other_Diseases_And_Conditions, dtype: float64\n",
      "Comorb_Other_Disorders_Of_Bone_Density_And_Structure\n",
      "N    84.871495\n",
      "Y    15.128505\n",
      "Name: Comorb_Other_Disorders_Of_Bone_Density_And_Structure, dtype: float64\n",
      "Comorb_Disorders_of_lipoprotein_metabolism_and_other_lipidemias\n",
      "Y    51.547897\n",
      "N    48.452103\n",
      "Name: Comorb_Disorders_of_lipoprotein_metabolism_and_other_lipidemias, dtype: float64\n",
      "Comorb_Osteoporosis_without_current_pathological_fracture\n",
      "N    73.218458\n",
      "Y    26.781542\n",
      "Name: Comorb_Osteoporosis_without_current_pathological_fracture, dtype: float64\n",
      "Comorb_Personal_history_of_malignant_neoplasm\n",
      "N    81.045561\n",
      "Y    18.954439\n",
      "Name: Comorb_Personal_history_of_malignant_neoplasm, dtype: float64\n",
      "Comorb_Gastro_esophageal_reflux_disease\n",
      "N    81.600467\n",
      "Y    18.399533\n",
      "Name: Comorb_Gastro_esophageal_reflux_disease, dtype: float64\n",
      "Concom_Cholesterol_And_Triglyceride_Regulating_Preparations\n",
      "N    65.478972\n",
      "Y    34.521028\n",
      "Name: Concom_Cholesterol_And_Triglyceride_Regulating_Preparations, dtype: float64\n",
      "Concom_Narcotics\n",
      "N    63.989486\n",
      "Y    36.010514\n",
      "Name: Concom_Narcotics, dtype: float64\n",
      "Concom_Systemic_Corticosteroids_Plain\n",
      "N    71.582944\n",
      "Y    28.417056\n",
      "Name: Concom_Systemic_Corticosteroids_Plain, dtype: float64\n",
      "Concom_Anti_Depressants_And_Mood_Stabilisers\n",
      "N    71.991822\n",
      "Y    28.008178\n",
      "Name: Concom_Anti_Depressants_And_Mood_Stabilisers, dtype: float64\n",
      "Concom_Fluoroquinolones\n",
      "N    81.396028\n",
      "Y    18.603972\n",
      "Name: Concom_Fluoroquinolones, dtype: float64\n",
      "Concom_Cephalosporins\n",
      "N    82.389019\n",
      "Y    17.610981\n",
      "Name: Concom_Cephalosporins, dtype: float64\n",
      "Concom_Macrolides_And_Similar_Types\n",
      "N    83.323598\n",
      "Y    16.676402\n",
      "Name: Concom_Macrolides_And_Similar_Types, dtype: float64\n",
      "Concom_Broad_Spectrum_Penicillins\n",
      "N    87.178738\n",
      "Y    12.821262\n",
      "Name: Concom_Broad_Spectrum_Penicillins, dtype: float64\n",
      "Concom_Anaesthetics_General\n",
      "N    85.484813\n",
      "Y    14.515187\n",
      "Name: Concom_Anaesthetics_General, dtype: float64\n",
      "Concom_Viral_Vaccines\n",
      "N    89.690421\n",
      "Y    10.309579\n",
      "Name: Concom_Viral_Vaccines, dtype: float64\n",
      "Risk_Type_1_Insulin_Dependent_Diabetes\n",
      "N    95.940421\n",
      "Y     4.059579\n",
      "Name: Risk_Type_1_Insulin_Dependent_Diabetes, dtype: float64\n",
      "Risk_Osteogenesis_Imperfecta\n",
      "N    99.912383\n",
      "Y     0.087617\n",
      "Name: Risk_Osteogenesis_Imperfecta, dtype: float64\n",
      "Risk_Rheumatoid_Arthritis\n",
      "N    96.203271\n",
      "Y     3.796729\n",
      "Name: Risk_Rheumatoid_Arthritis, dtype: float64\n",
      "Risk_Untreated_Chronic_Hyperthyroidism\n",
      "N    99.941589\n",
      "Y     0.058411\n",
      "Name: Risk_Untreated_Chronic_Hyperthyroidism, dtype: float64\n",
      "Risk_Untreated_Chronic_Hypogonadism\n",
      "N    96.290888\n",
      "Y     3.709112\n",
      "Name: Risk_Untreated_Chronic_Hypogonadism, dtype: float64\n",
      "Risk_Untreated_Early_Menopause\n",
      "N    99.649533\n",
      "Y     0.350467\n",
      "Name: Risk_Untreated_Early_Menopause, dtype: float64\n",
      "Risk_Patient_Parent_Fractured_Their_Hip\n",
      "N    92.523364\n",
      "Y     7.476636\n",
      "Name: Risk_Patient_Parent_Fractured_Their_Hip, dtype: float64\n",
      "Risk_Smoking_Tobacco\n",
      "N    81.191589\n",
      "Y    18.808411\n",
      "Name: Risk_Smoking_Tobacco, dtype: float64\n",
      "Risk_Chronic_Malnutrition_Or_Malabsorption\n",
      "N    86.273364\n",
      "Y    13.726636\n",
      "Name: Risk_Chronic_Malnutrition_Or_Malabsorption, dtype: float64\n",
      "Risk_Chronic_Liver_Disease\n",
      "N    99.474299\n",
      "Y     0.525701\n",
      "Name: Risk_Chronic_Liver_Disease, dtype: float64\n",
      "Risk_Family_History_Of_Osteoporosis\n",
      "N    89.544393\n",
      "Y    10.455607\n",
      "Name: Risk_Family_History_Of_Osteoporosis, dtype: float64\n",
      "Risk_Low_Calcium_Intake\n",
      "N    98.773364\n",
      "Y     1.226636\n",
      "Name: Risk_Low_Calcium_Intake, dtype: float64\n",
      "Risk_Vitamin_D_Insufficiency\n",
      "N    52.219626\n",
      "Y    47.780374\n",
      "Name: Risk_Vitamin_D_Insufficiency, dtype: float64\n",
      "Risk_Poor_Health_Frailty\n",
      "N    94.392523\n",
      "Y     5.607477\n",
      "Name: Risk_Poor_Health_Frailty, dtype: float64\n",
      "Risk_Excessive_Thinness\n",
      "N    98.043224\n",
      "Y     1.956776\n",
      "Name: Risk_Excessive_Thinness, dtype: float64\n",
      "Risk_Hysterectomy_Oophorectomy\n",
      "N    98.422897\n",
      "Y     1.577103\n",
      "Name: Risk_Hysterectomy_Oophorectomy, dtype: float64\n",
      "Risk_Estrogen_Deficiency\n",
      "N    99.678738\n",
      "Y     0.321262\n",
      "Name: Risk_Estrogen_Deficiency, dtype: float64\n",
      "Risk_Immobilization\n",
      "N    99.591121\n",
      "Y     0.408879\n",
      "Name: Risk_Immobilization, dtype: float64\n",
      "Risk_Recurring_Falls\n",
      "N    97.984813\n",
      "Y     2.015187\n",
      "Name: Risk_Recurring_Falls, dtype: float64\n"
     ]
    }
   ],
   "source": [
    "#Now we treat the categorical variables accordingly\n",
    "\n",
    "# We drop the ptid variable as it is not relevant to our analysis\n",
    "df.drop(columns='Ptid',inplace=True)\n",
    "\n",
    "#We extract only the categorical variables\n",
    "attributelist=[]\n",
    "for i in df.columns:\n",
    "    if i not in numeric_df:\n",
    "        attributelist.append(i)\n",
    "        \n",
    "#We check the distribution of categorical variables\n",
    "for i in attributelist:\n",
    "    x=df[i].value_counts(normalize=True)*100\n",
    "    print(i)\n",
    "    print(x)"
   ]
  },
  {
   "cell_type": "code",
   "execution_count": 14,
   "id": "bf4c9041",
   "metadata": {},
   "outputs": [],
   "source": [
    "#We drop those variables having a biased distrubution, having uneven distribution\n",
    "drop_variables=['Risk_Recurring_Falls','Risk_Immobilization','Risk_Estrogen_Deficiency','Risk_Hysterectomy_Oophorectomy','Risk_Excessive_Thinness',\n",
    "               'Risk_Low_Calcium_Intake','Risk_Chronic_Liver_Disease','Risk_Untreated_Early_Menopause','Risk_Untreated_Chronic_Hypogonadism','Risk_Untreated_Chronic_Hyperthyroidism',\n",
    "               'Risk_Rheumatoid_Arthritis','Risk_Osteogenesis_Imperfecta']\n",
    "\n",
    "df.drop(columns=drop_variables,inplace=True)"
   ]
  },
  {
   "cell_type": "code",
   "execution_count": 15,
   "id": "72d78fcb",
   "metadata": {},
   "outputs": [
    {
     "name": "stdout",
     "output_type": "stream",
     "text": [
      "(3424, 56)\n"
     ]
    }
   ],
   "source": [
    "#The categorical variable, Ntm_Speciality has too many sub-categories with low frequency of values \n",
    "#Hence, we club those sub-categories having < 1% frequency as \"Other\" \n",
    "series = pd.value_counts(df.Ntm_Speciality)\n",
    "mask = (series/series.sum() * 100).lt(1)\n",
    "df['Ntm_Speciality'] = np.where(df['Ntm_Speciality'].isin(series[mask].index),'Other', df['Ntm_Speciality'])\n",
    "print(df.shape)"
   ]
  },
  {
   "cell_type": "code",
   "execution_count": 16,
   "id": "a8081438",
   "metadata": {},
   "outputs": [
    {
     "data": {
      "text/plain": [
       "6"
      ]
     },
     "execution_count": 16,
     "metadata": {},
     "output_type": "execute_result"
    }
   ],
   "source": [
    "#Finally, we check for duplicates\n",
    "df.duplicated().sum()"
   ]
  },
  {
   "cell_type": "code",
   "execution_count": 17,
   "id": "86a4e240",
   "metadata": {},
   "outputs": [],
   "source": [
    "#Dropping duplicates\n",
    "df.drop_duplicates(inplace=True)"
   ]
  },
  {
   "cell_type": "code",
   "execution_count": 18,
   "id": "916c09fa",
   "metadata": {
    "scrolled": true
   },
   "outputs": [
    {
     "data": {
      "text/html": [
       "<div>\n",
       "<style scoped>\n",
       "    .dataframe tbody tr th:only-of-type {\n",
       "        vertical-align: middle;\n",
       "    }\n",
       "\n",
       "    .dataframe tbody tr th {\n",
       "        vertical-align: top;\n",
       "    }\n",
       "\n",
       "    .dataframe thead th {\n",
       "        text-align: right;\n",
       "    }\n",
       "</style>\n",
       "<table border=\"1\" class=\"dataframe\">\n",
       "  <thead>\n",
       "    <tr style=\"text-align: right;\">\n",
       "      <th></th>\n",
       "      <th>Persistency_Flag</th>\n",
       "      <th>Gender</th>\n",
       "      <th>Race</th>\n",
       "      <th>Ethnicity</th>\n",
       "      <th>Region</th>\n",
       "      <th>Age_Bucket</th>\n",
       "      <th>Ntm_Speciality</th>\n",
       "      <th>Ntm_Specialist_Flag</th>\n",
       "      <th>Ntm_Speciality_Bucket</th>\n",
       "      <th>Gluco_Record_Prior_Ntm</th>\n",
       "      <th>...</th>\n",
       "      <th>Concom_Anaesthetics_General</th>\n",
       "      <th>Concom_Viral_Vaccines</th>\n",
       "      <th>Risk_Type_1_Insulin_Dependent_Diabetes</th>\n",
       "      <th>Risk_Patient_Parent_Fractured_Their_Hip</th>\n",
       "      <th>Risk_Smoking_Tobacco</th>\n",
       "      <th>Risk_Chronic_Malnutrition_Or_Malabsorption</th>\n",
       "      <th>Risk_Family_History_Of_Osteoporosis</th>\n",
       "      <th>Risk_Vitamin_D_Insufficiency</th>\n",
       "      <th>Risk_Poor_Health_Frailty</th>\n",
       "      <th>Count_Of_Risks</th>\n",
       "    </tr>\n",
       "  </thead>\n",
       "  <tbody>\n",
       "    <tr>\n",
       "      <th>0</th>\n",
       "      <td>Persistent</td>\n",
       "      <td>Male</td>\n",
       "      <td>Caucasian</td>\n",
       "      <td>Not Hispanic</td>\n",
       "      <td>West</td>\n",
       "      <td>&gt;75</td>\n",
       "      <td>GENERAL PRACTITIONER</td>\n",
       "      <td>Others</td>\n",
       "      <td>OB/GYN/Others/PCP/Unknown</td>\n",
       "      <td>N</td>\n",
       "      <td>...</td>\n",
       "      <td>N</td>\n",
       "      <td>N</td>\n",
       "      <td>N</td>\n",
       "      <td>N</td>\n",
       "      <td>N</td>\n",
       "      <td>N</td>\n",
       "      <td>N</td>\n",
       "      <td>N</td>\n",
       "      <td>N</td>\n",
       "      <td>0.0</td>\n",
       "    </tr>\n",
       "    <tr>\n",
       "      <th>1</th>\n",
       "      <td>Non-Persistent</td>\n",
       "      <td>Male</td>\n",
       "      <td>Asian</td>\n",
       "      <td>Not Hispanic</td>\n",
       "      <td>West</td>\n",
       "      <td>55-65</td>\n",
       "      <td>GENERAL PRACTITIONER</td>\n",
       "      <td>Others</td>\n",
       "      <td>OB/GYN/Others/PCP/Unknown</td>\n",
       "      <td>N</td>\n",
       "      <td>...</td>\n",
       "      <td>N</td>\n",
       "      <td>N</td>\n",
       "      <td>N</td>\n",
       "      <td>N</td>\n",
       "      <td>N</td>\n",
       "      <td>N</td>\n",
       "      <td>N</td>\n",
       "      <td>N</td>\n",
       "      <td>N</td>\n",
       "      <td>0.0</td>\n",
       "    </tr>\n",
       "    <tr>\n",
       "      <th>2</th>\n",
       "      <td>Non-Persistent</td>\n",
       "      <td>Female</td>\n",
       "      <td>Other/Unknown</td>\n",
       "      <td>Hispanic</td>\n",
       "      <td>Midwest</td>\n",
       "      <td>65-75</td>\n",
       "      <td>GENERAL PRACTITIONER</td>\n",
       "      <td>Others</td>\n",
       "      <td>OB/GYN/Others/PCP/Unknown</td>\n",
       "      <td>N</td>\n",
       "      <td>...</td>\n",
       "      <td>N</td>\n",
       "      <td>N</td>\n",
       "      <td>N</td>\n",
       "      <td>Y</td>\n",
       "      <td>N</td>\n",
       "      <td>N</td>\n",
       "      <td>N</td>\n",
       "      <td>N</td>\n",
       "      <td>N</td>\n",
       "      <td>2.0</td>\n",
       "    </tr>\n",
       "    <tr>\n",
       "      <th>3</th>\n",
       "      <td>Non-Persistent</td>\n",
       "      <td>Female</td>\n",
       "      <td>Caucasian</td>\n",
       "      <td>Not Hispanic</td>\n",
       "      <td>Midwest</td>\n",
       "      <td>&gt;75</td>\n",
       "      <td>GENERAL PRACTITIONER</td>\n",
       "      <td>Others</td>\n",
       "      <td>OB/GYN/Others/PCP/Unknown</td>\n",
       "      <td>N</td>\n",
       "      <td>...</td>\n",
       "      <td>N</td>\n",
       "      <td>Y</td>\n",
       "      <td>N</td>\n",
       "      <td>N</td>\n",
       "      <td>Y</td>\n",
       "      <td>N</td>\n",
       "      <td>N</td>\n",
       "      <td>N</td>\n",
       "      <td>N</td>\n",
       "      <td>1.0</td>\n",
       "    </tr>\n",
       "    <tr>\n",
       "      <th>4</th>\n",
       "      <td>Non-Persistent</td>\n",
       "      <td>Female</td>\n",
       "      <td>Caucasian</td>\n",
       "      <td>Not Hispanic</td>\n",
       "      <td>Midwest</td>\n",
       "      <td>&gt;75</td>\n",
       "      <td>GENERAL PRACTITIONER</td>\n",
       "      <td>Others</td>\n",
       "      <td>OB/GYN/Others/PCP/Unknown</td>\n",
       "      <td>Y</td>\n",
       "      <td>...</td>\n",
       "      <td>N</td>\n",
       "      <td>N</td>\n",
       "      <td>N</td>\n",
       "      <td>N</td>\n",
       "      <td>Y</td>\n",
       "      <td>N</td>\n",
       "      <td>N</td>\n",
       "      <td>N</td>\n",
       "      <td>N</td>\n",
       "      <td>1.0</td>\n",
       "    </tr>\n",
       "  </tbody>\n",
       "</table>\n",
       "<p>5 rows × 56 columns</p>\n",
       "</div>"
      ],
      "text/plain": [
       "  Persistency_Flag  Gender           Race     Ethnicity   Region Age_Bucket  \\\n",
       "0       Persistent    Male      Caucasian  Not Hispanic     West        >75   \n",
       "1   Non-Persistent    Male          Asian  Not Hispanic     West      55-65   \n",
       "2   Non-Persistent  Female  Other/Unknown      Hispanic  Midwest      65-75   \n",
       "3   Non-Persistent  Female      Caucasian  Not Hispanic  Midwest        >75   \n",
       "4   Non-Persistent  Female      Caucasian  Not Hispanic  Midwest        >75   \n",
       "\n",
       "         Ntm_Speciality Ntm_Specialist_Flag      Ntm_Speciality_Bucket  \\\n",
       "0  GENERAL PRACTITIONER              Others  OB/GYN/Others/PCP/Unknown   \n",
       "1  GENERAL PRACTITIONER              Others  OB/GYN/Others/PCP/Unknown   \n",
       "2  GENERAL PRACTITIONER              Others  OB/GYN/Others/PCP/Unknown   \n",
       "3  GENERAL PRACTITIONER              Others  OB/GYN/Others/PCP/Unknown   \n",
       "4  GENERAL PRACTITIONER              Others  OB/GYN/Others/PCP/Unknown   \n",
       "\n",
       "  Gluco_Record_Prior_Ntm  ... Concom_Anaesthetics_General  \\\n",
       "0                      N  ...                           N   \n",
       "1                      N  ...                           N   \n",
       "2                      N  ...                           N   \n",
       "3                      N  ...                           N   \n",
       "4                      Y  ...                           N   \n",
       "\n",
       "   Concom_Viral_Vaccines Risk_Type_1_Insulin_Dependent_Diabetes  \\\n",
       "0                      N                                      N   \n",
       "1                      N                                      N   \n",
       "2                      N                                      N   \n",
       "3                      Y                                      N   \n",
       "4                      N                                      N   \n",
       "\n",
       "  Risk_Patient_Parent_Fractured_Their_Hip Risk_Smoking_Tobacco  \\\n",
       "0                                       N                    N   \n",
       "1                                       N                    N   \n",
       "2                                       Y                    N   \n",
       "3                                       N                    Y   \n",
       "4                                       N                    Y   \n",
       "\n",
       "  Risk_Chronic_Malnutrition_Or_Malabsorption  \\\n",
       "0                                          N   \n",
       "1                                          N   \n",
       "2                                          N   \n",
       "3                                          N   \n",
       "4                                          N   \n",
       "\n",
       "  Risk_Family_History_Of_Osteoporosis Risk_Vitamin_D_Insufficiency  \\\n",
       "0                                   N                            N   \n",
       "1                                   N                            N   \n",
       "2                                   N                            N   \n",
       "3                                   N                            N   \n",
       "4                                   N                            N   \n",
       "\n",
       "  Risk_Poor_Health_Frailty Count_Of_Risks  \n",
       "0                        N            0.0  \n",
       "1                        N            0.0  \n",
       "2                        N            2.0  \n",
       "3                        N            1.0  \n",
       "4                        N            1.0  \n",
       "\n",
       "[5 rows x 56 columns]"
      ]
     },
     "execution_count": 18,
     "metadata": {},
     "output_type": "execute_result"
    }
   ],
   "source": [
    "#Our final data to be used for model building purpose\n",
    "#df.to_csv(r'C:\\Users\\91962\\OneDrive - Kantar\\Desktop\\Aishwarya Roy Chowdhury\\Case Study\\Final_Data.csv')\n",
    "df.head()"
   ]
  },
  {
   "cell_type": "markdown",
   "id": "f60b9478",
   "metadata": {},
   "source": [
    "Step 5: Basic Exploratory Data Analysis "
   ]
  },
  {
   "cell_type": "code",
   "execution_count": 19,
   "id": "5af17cf6",
   "metadata": {},
   "outputs": [
    {
     "data": {
      "text/plain": [
       "<AxesSubplot:xlabel='Persistency_Flag', ylabel='count'>"
      ]
     },
     "execution_count": 19,
     "metadata": {},
     "output_type": "execute_result"
    },
    {
     "data": {
      "image/png": "[encoded data removed]",
      "text/plain": [
       "<Figure size 432x288 with 1 Axes>"
      ]
     },
     "metadata": {
      "needs_background": "light"
     },
     "output_type": "display_data"
    }
   ],
   "source": [
    "#Understanding how persistent and non-persistent varies across gender\n",
    "sns.countplot(x=\"Persistency_Flag\",hue='Gender', data=df)"
   ]
  },
  {
   "cell_type": "code",
   "execution_count": 20,
   "id": "171ef4fb",
   "metadata": {},
   "outputs": [
    {
     "data": {
      "text/plain": [
       "<AxesSubplot:xlabel='Persistency_Flag', ylabel='count'>"
      ]
     },
     "execution_count": 20,
     "metadata": {},
     "output_type": "execute_result"
    },
    {
     "data": {
      "image/png": "[encoded data removed]",
      "text/plain": [
       "<Figure size 432x288 with 1 Axes>"
      ]
     },
     "metadata": {
      "needs_background": "light"
     },
     "output_type": "display_data"
    }
   ],
   "source": [
    "#Understanding how persistent and non-persistent varies across race\n",
    "sns.countplot(x=\"Persistency_Flag\",hue='Race', data=df)"
   ]
  },
  {
   "cell_type": "code",
   "execution_count": 21,
   "id": "6153fb5a",
   "metadata": {},
   "outputs": [
    {
     "data": {
      "text/plain": [
       "<AxesSubplot:xlabel='Persistency_Flag', ylabel='count'>"
      ]
     },
     "execution_count": 21,
     "metadata": {},
     "output_type": "execute_result"
    },
    {
     "data": {
      "image/png": "[encoded data removed]",
      "text/plain": [
       "<Figure size 432x288 with 1 Axes>"
      ]
     },
     "metadata": {
      "needs_background": "light"
     },
     "output_type": "display_data"
    }
   ],
   "source": [
    "#Understanding how persistent and non-persistent varies across ethnicity\n",
    "sns.countplot(x=\"Persistency_Flag\",hue='Ethnicity', data=df)"
   ]
  },
  {
   "cell_type": "code",
   "execution_count": 22,
   "id": "92af6713",
   "metadata": {},
   "outputs": [
    {
     "data": {
      "text/plain": [
       "<AxesSubplot:xlabel='Persistency_Flag', ylabel='count'>"
      ]
     },
     "execution_count": 22,
     "metadata": {},
     "output_type": "execute_result"
    },
    {
     "data": {
      "image/png": "[encoded data removed]",
      "text/plain": [
       "<Figure size 432x288 with 1 Axes>"
      ]
     },
     "metadata": {
      "needs_background": "light"
     },
     "output_type": "display_data"
    }
   ],
   "source": [
    "#Understanding how persistent and non-persistent varies across region\n",
    "sns.countplot(x=\"Persistency_Flag\",hue='Region', data=df)"
   ]
  },
  {
   "cell_type": "code",
   "execution_count": 23,
   "id": "13828cf1",
   "metadata": {},
   "outputs": [
    {
     "data": {
      "text/plain": [
       "<AxesSubplot:xlabel='Persistency_Flag', ylabel='count'>"
      ]
     },
     "execution_count": 23,
     "metadata": {},
     "output_type": "execute_result"
    },
    {
     "data": {
      "image/png": "[encoded data removed]",
      "text/plain": [
       "<Figure size 432x288 with 1 Axes>"
      ]
     },
     "metadata": {
      "needs_background": "light"
     },
     "output_type": "display_data"
    }
   ],
   "source": [
    "#Understanding how persistent and non-persistent varies across age buckets\n",
    "sns.countplot(x=\"Persistency_Flag\",hue='Age_Bucket', data=df)"
   ]
  },
  {
   "cell_type": "code",
   "execution_count": 24,
   "id": "ad9e3be4",
   "metadata": {},
   "outputs": [
    {
     "data": {
      "text/plain": [
       "<AxesSubplot:xlabel='Persistency_Flag', ylabel='count'>"
      ]
     },
     "execution_count": 24,
     "metadata": {},
     "output_type": "execute_result"
    },
    {
     "data": {
      "image/png": "[encoded data removed]",
      "text/plain": [
       "<Figure size 432x288 with 1 Axes>"
      ]
     },
     "metadata": {
      "needs_background": "light"
     },
     "output_type": "display_data"
    }
   ],
   "source": [
    "#Understanding how persistent and non-persistent varies across adherent flag\n",
    "sns.countplot(x=\"Persistency_Flag\",hue='Adherent_Flag', data=df)"
   ]
  },
  {
   "cell_type": "code",
   "execution_count": 25,
   "id": "02d17bf3",
   "metadata": {
    "scrolled": true
   },
   "outputs": [
    {
     "data": {
      "text/plain": [
       "<AxesSubplot:xlabel='Persistency_Flag', ylabel='count'>"
      ]
     },
     "execution_count": 25,
     "metadata": {},
     "output_type": "execute_result"
    },
    {
     "data": {
      "image/png": "[encoded data removed]",
      "text/plain": [
       "<Figure size 432x288 with 1 Axes>"
      ]
     },
     "metadata": {
      "needs_background": "light"
     },
     "output_type": "display_data"
    }
   ],
   "source": [
    "#Understanding how persistent and non-persistent varies across count of risks\n",
    "sns.countplot(x=\"Persistency_Flag\", hue='Count_Of_Risks', data=df)"
   ]
  },
  {
   "cell_type": "markdown",
   "id": "99db1c33",
   "metadata": {},
   "source": [
    "Step 5: Label Encoding"
   ]
  },
  {
   "cell_type": "code",
   "execution_count": 26,
   "id": "e515a0ad",
   "metadata": {},
   "outputs": [],
   "source": [
    "#We convert our categorical variables into numerical variables using label encoder\n",
    "#For our target variable, i.e., Persistency_Flag\n",
    "X= df.drop(columns='Persistency_Flag')\n",
    "y = df['Persistency_Flag']\n",
    "\n",
    "from sklearn.preprocessing import LabelEncoder\n",
    "le = LabelEncoder()\n",
    "y = le.fit_transform(np.ravel(y))"
   ]
  },
  {
   "cell_type": "code",
   "execution_count": 27,
   "id": "a56b3218",
   "metadata": {},
   "outputs": [],
   "source": [
    "#For our independent variables\n",
    "from sklearn.pipeline import Pipeline\n",
    "\n",
    "class MultiColumnLabelEncoder:\n",
    "    def __init__(self,columns = None):\n",
    "        self.columns = columns # array of column names to encode\n",
    "\n",
    "    def fit(self,X,y=None):\n",
    "        return self # not relevant here\n",
    "\n",
    "    def transform(self,X):\n",
    "        #Transforms columns of X specified in self.columns using LabelEncoder().\n",
    "        #If no columns specified, transforms all columns in X.\n",
    "        \n",
    "        output = X.copy()\n",
    "        if self.columns is not None:\n",
    "            for col in self.columns:\n",
    "                output[col] = LabelEncoder().fit_transform(output[col])\n",
    "        else:\n",
    "            for colname,col in output.iteritems():\n",
    "                output[colname] = LabelEncoder().fit_transform(col)\n",
    "        return output\n",
    "\n",
    "    def fit_transform(self,X,y=None):\n",
    "        return self.fit(X,y).transform(X)\n",
    "    \n",
    "    \n",
    "X_var = []\n",
    "for i in df.columns:\n",
    "    if i not in numeric_df:\n",
    "        if i != 'Persistency_Flag':\n",
    "            X_var.append(i)\n",
    "            \n",
    "#Transform all X variables\n",
    "X = MultiColumnLabelEncoder(columns=X_var).fit_transform(X)"
   ]
  },
  {
   "cell_type": "code",
   "execution_count": 28,
   "id": "1d69af82",
   "metadata": {},
   "outputs": [
    {
     "data": {
      "text/plain": [
       "Dexa_Freq_During_Rx                                                   0.116122\n",
       "Dexa_During_Rx                                                        0.079614\n",
       "Comorb_Long_Term_Current_Drug_Therapy                                 0.046057\n",
       "Comorb_Encounter_For_Screening_For_Malignant_Neoplasms                0.035663\n",
       "Comorb_Encounter_For_Immunization                                     0.034325\n",
       "Comorb_Encntr_For_General_Exam_W_O_Complaint,_Susp_Or_Reprtd_Dx       0.030748\n",
       "Region                                                                0.028637\n",
       "Ntm_Speciality                                                        0.027039\n",
       "Count_Of_Risks                                                        0.025895\n",
       "Age_Bucket                                                            0.025102\n",
       "Ntm_Speciality_Bucket                                                 0.018852\n",
       "Comorb_Other_Joint_Disorder_Not_Elsewhere_Classified                  0.017717\n",
       "Change_T_Score                                                        0.017693\n",
       "Comorb_Other_Disorders_Of_Bone_Density_And_Structure                  0.017625\n",
       "Concom_Systemic_Corticosteroids_Plain                                 0.017477\n",
       "Tscore_Bucket_During_Rx                                               0.017331\n",
       "Concom_Viral_Vaccines                                                 0.016991\n",
       "Concom_Cephalosporins                                                 0.015603\n",
       "Comorb_Encntr_For_Oth_Sp_Exam_W_O_Complaint_Suspected_Or_Reprtd_Dx    0.015181\n",
       "Comorb_Gastro_esophageal_reflux_disease                               0.015141\n",
       "Risk_Segment_During_Rx                                                0.015070\n",
       "Comorb_Disorders_of_lipoprotein_metabolism_and_other_lipidemias       0.014756\n",
       "Comorb_Dorsalgia                                                      0.014563\n",
       "Comorb_Personal_History_Of_Other_Diseases_And_Conditions              0.014540\n",
       "Concom_Macrolides_And_Similar_Types                                   0.014486\n",
       "Comorb_Vitamin_D_Deficiency                                           0.014473\n",
       "Change_Risk_Segment                                                   0.014100\n",
       "Concom_Fluoroquinolones                                               0.013718\n",
       "Gluco_Record_During_Rx                                                0.013172\n",
       "Concom_Cholesterol_And_Triglyceride_Regulating_Preparations           0.012985\n",
       "Idn_Indicator                                                         0.012777\n",
       "Ntm_Specialist_Flag                                                   0.012513\n",
       "Concom_Narcotics                                                      0.012469\n",
       "Comorb_Osteoporosis_without_current_pathological_fracture             0.012319\n",
       "Concom_Broad_Spectrum_Penicillins                                     0.012252\n",
       "Risk_Vitamin_D_Insufficiency                                          0.012250\n",
       "Comorb_Personal_history_of_malignant_neoplasm                         0.012209\n",
       "Gluco_Record_Prior_Ntm                                                0.012155\n",
       "Concom_Anti_Depressants_And_Mood_Stabilisers                          0.012026\n",
       "Concom_Anaesthetics_General                                           0.011528\n",
       "Tscore_Bucket_Prior_Ntm                                               0.011344\n",
       "Risk_Segment_Prior_Ntm                                                0.010566\n",
       "Frag_Frac_Prior_Ntm                                                   0.009492\n",
       "Risk_Smoking_Tobacco                                                  0.009465\n",
       "Adherent_Flag                                                         0.009203\n",
       "Race                                                                  0.009173\n",
       "Risk_Chronic_Malnutrition_Or_Malabsorption                            0.008577\n",
       "Frag_Frac_During_Rx                                                   0.008501\n",
       "Injectable_Experience_During_Rx                                       0.007113\n",
       "Risk_Family_History_Of_Osteoporosis                                   0.006801\n",
       "Gender                                                                0.006290\n",
       "Risk_Poor_Health_Frailty                                              0.005649\n",
       "Ethnicity                                                             0.005307\n",
       "Risk_Patient_Parent_Fractured_Their_Hip                               0.005285\n",
       "Risk_Type_1_Insulin_Dependent_Diabetes                                0.004063\n",
       "dtype: float64"
      ]
     },
     "execution_count": 28,
     "metadata": {},
     "output_type": "execute_result"
    }
   ],
   "source": [
    "#Computing feature importance for all variables\n",
    "#Dexa_Freq_During_Rx & Dexa_During_Rx variables significantly contribute to patients' persistance\n",
    "from sklearn.ensemble import RandomForestClassifier\n",
    "clf = RandomForestClassifier(n_estimators=1000, random_state=0)\n",
    "clf.fit(X, y)\n",
    "feature_scores = pd.Series(clf.feature_importances_, index=X.columns).sort_values(ascending=False)\n",
    "feature_scores"
   ]
  },
  {
   "cell_type": "markdown",
   "id": "15b78896",
   "metadata": {},
   "source": [
    "Step 6: Building the Model"
   ]
  },
  {
   "cell_type": "code",
   "execution_count": 29,
   "id": "953f8a98",
   "metadata": {},
   "outputs": [],
   "source": [
    "#Splitting our data for training and testing\n",
    "from sklearn.model_selection import train_test_split\n",
    "train_X, test_X, train_y, test_y = train_test_split(X, y, test_size=0.20, random_state=19)"
   ]
  },
  {
   "cell_type": "code",
   "execution_count": 30,
   "id": "5a9273b5",
   "metadata": {},
   "outputs": [
    {
     "name": "stdout",
     "output_type": "stream",
     "text": [
      "Requirement already satisfied: xgboost in c:\\users\\91962\\anaconda3\\lib\\site-packages (1.7.6)\n",
      "Requirement already satisfied: numpy in c:\\users\\91962\\anaconda3\\lib\\site-packages (from xgboost) (1.20.1)\n",
      "Requirement already satisfied: scipy in c:\\users\\91962\\anaconda3\\lib\\site-packages (from xgboost) (1.6.2)\n"
     ]
    }
   ],
   "source": [
    "#Importing the important libraries for model building\n",
    "from sklearn.model_selection import train_test_split\n",
    "from sklearn.linear_model import LogisticRegression\n",
    "from sklearn import metrics\n",
    "import sys\n",
    "!{sys.executable} -m pip install xgboost\n",
    "import xgboost as xgb\n",
    "from xgboost import XGBClassifier\n",
    "from sklearn.ensemble import RandomForestClassifier\n",
    "from sklearn.tree import DecisionTreeClassifier\n",
    "from sklearn.ensemble import GradientBoostingClassifier\n",
    "from sklearn.svm import SVC\n",
    "from sklearn.neighbors import KNeighborsClassifier\n",
    "from sklearn.model_selection import cross_val_score\n",
    "from sklearn.model_selection import GridSearchCV\n",
    "from sklearn.preprocessing import StandardScaler\n",
    "import warnings"
   ]
  },
  {
   "cell_type": "code",
   "execution_count": 31,
   "id": "d660a87c",
   "metadata": {},
   "outputs": [],
   "source": [
    "models = []\n",
    "models.append(('Random Forest Clas.', RandomForestClassifier()))\n",
    "models.append(('KNN', KNeighborsClassifier()))\n",
    "models.append(('Decision Tree Clas.', DecisionTreeClassifier()))\n",
    "models.append(('GBC',GradientBoostingClassifier()))\n",
    "models.append(('Logistic Reg.', LogisticRegression()))\n",
    "models.append(('XGB', XGBClassifier()))\n",
    "models.append(('SVC', SVC()))"
   ]
  },
  {
   "cell_type": "code",
   "execution_count": 32,
   "id": "202cf748",
   "metadata": {},
   "outputs": [
    {
     "name": "stdout",
     "output_type": "stream",
     "text": [
      "Mean of the Random Forest Clas. model scores : 0.8016463446005042\n",
      "Mean of the KNN model scores : 0.7735521599698171\n",
      "Mean of the Decision Tree Clas. model scores : 0.7182641354118433\n",
      "Mean of the GBC model scores : 0.8051534015880366\n",
      "Mean of the Logistic Reg. model scores : 0.8042702063075577\n",
      "Mean of the XGB model scores : 0.785546466361407\n",
      "Mean of the SVC model scores : 0.7987163656942944\n"
     ]
    }
   ],
   "source": [
    "#Checking the accuracy of different models to understand which one we would be using in our prediction\n",
    "#Random Forest Classifier has the highest score and hence, we will be using it for model training and testing purposes\n",
    "warnings.filterwarnings('ignore')\n",
    "model_names = []\n",
    "scores = []\n",
    "\n",
    "for name, model in models:\n",
    "    score = cross_val_score(model, X, y, cv = 10, scoring='accuracy')\n",
    "    scores.append(score)\n",
    "    model_names.append(name)\n",
    "    print(f\"Mean of the {name} model scores : {score.mean()}\")"
   ]
  },
  {
   "cell_type": "code",
   "execution_count": 33,
   "id": "7cef0756",
   "metadata": {},
   "outputs": [
    {
     "data": {
      "image/png": "[encoded data removed]",
      "text/plain": [
       "<Figure size 720x360 with 1 Axes>"
      ]
     },
     "metadata": {
      "needs_background": "light"
     },
     "output_type": "display_data"
    }
   ],
   "source": [
    "#Checking feature importance to filter out those features which are not relevant to our model\n",
    "feature_importance_ = pd.DataFrame({'Importance' : RandomForestClassifier().fit(X, y).feature_importances_}, index = X.columns)\n",
    "\n",
    "feature_importance_.sort_values(by = 'Importance', ascending = False, axis = 0)[:15].plot(kind = 'bar', color = '#019955', figsize = (10, 5))\n",
    "plt.xlabel(\"Feature Importance by Random Forest Classifier\", color = \"#019955\", fontdict= {\"fontsize\" : 20});"
   ]
  },
  {
   "cell_type": "code",
   "execution_count": 34,
   "id": "267bc70b",
   "metadata": {},
   "outputs": [],
   "source": [
    "#Considering only the top 15 features for prediction\n",
    "X_train_new_ = train_X[['Dexa_Freq_During_Rx', 'Dexa_During_Rx', 'Comorb_Long_Term_Current_Drug_Therapy', \n",
    "                       \n",
    "                       'Comorb_Encounter_For_Screening_For_Malignant_Neoplasms', 'Comorb_Encounter_For_Immunization',\n",
    "                        \n",
    "                       'Comorb_Encntr_For_Oth_Sp_Exam_W_O_Complaint_Suspected_Or_Reprtd_Dx' ,'Region', 'Ntm_Speciality',\n",
    "                        \n",
    "                        'Count_Of_Risks', 'Age_Bucket', 'Concom_Systemic_Corticosteroids_Plain', \n",
    "                        \n",
    "                        'Comorb_Other_Joint_Disorder_Not_Elsewhere_Classified', 'Ntm_Speciality_Bucket', 'Tscore_Bucket_During_Rx',\n",
    "                        \n",
    "                        'Change_T_Score']]\n",
    "\n",
    "\n",
    "X_test_new_ = test_X[['Dexa_Freq_During_Rx', 'Dexa_During_Rx', 'Comorb_Long_Term_Current_Drug_Therapy', \n",
    "                       \n",
    "                       'Comorb_Encounter_For_Screening_For_Malignant_Neoplasms', 'Comorb_Encounter_For_Immunization',\n",
    "                        \n",
    "                       'Comorb_Encntr_For_Oth_Sp_Exam_W_O_Complaint_Suspected_Or_Reprtd_Dx' ,'Region', 'Ntm_Speciality',\n",
    "                        \n",
    "                        'Count_Of_Risks', 'Age_Bucket', 'Concom_Systemic_Corticosteroids_Plain', \n",
    "                        \n",
    "                        'Comorb_Other_Joint_Disorder_Not_Elsewhere_Classified', 'Ntm_Speciality_Bucket', 'Tscore_Bucket_During_Rx',\n",
    "                        \n",
    "                        'Change_T_Score']]"
   ]
  },
  {
   "cell_type": "code",
   "execution_count": 35,
   "id": "bd608978",
   "metadata": {},
   "outputs": [],
   "source": [
    "#Standardizing the data\n",
    "sc = StandardScaler()\n",
    "\n",
    "X_train_sc = sc.fit_transform(X_train_new_)\n",
    "X_test_sc = sc.transform(X_test_new_)"
   ]
  },
  {
   "cell_type": "code",
   "execution_count": 36,
   "id": "a227a459",
   "metadata": {},
   "outputs": [
    {
     "data": {
      "text/plain": [
       "GridSearchCV(cv=3, estimator=RandomForestClassifier(),\n",
       "             param_grid={'criterion': ['entropy', 'gini'],\n",
       "                         'max_depth': [2, 4, 6, 8, 10],\n",
       "                         'min_samples_leaf': [2, 3, 5, 7],\n",
       "                         'min_samples_split': [2, 4, 6, 8],\n",
       "                         'n_estimators': [300, 400, 500]},\n",
       "             scoring='f1')"
      ]
     },
     "execution_count": 36,
     "metadata": {},
     "output_type": "execute_result"
    }
   ],
   "source": [
    "#Using grid search to fine-tune the model parametres\n",
    "params_grid = {'criterion' : ['entropy', 'gini'], 'max_depth' : [2, 4, 6, 8, 10], 'n_estimators' : [300, 400, 500],\n",
    "              'min_samples_split' : [2, 4, 6, 8], 'min_samples_leaf' : [2, 3, 5, 7]}\n",
    "\n",
    "gscv_rf = GridSearchCV(RandomForestClassifier(), params_grid, cv = 3, scoring = 'f1')\n",
    "\n",
    "gscv_rf.fit(X_train_sc, train_y)"
   ]
  },
  {
   "cell_type": "code",
   "execution_count": 37,
   "id": "213539f0",
   "metadata": {},
   "outputs": [
    {
     "data": {
      "text/plain": [
       "{'criterion': 'gini',\n",
       " 'max_depth': 8,\n",
       " 'min_samples_leaf': 5,\n",
       " 'min_samples_split': 2,\n",
       " 'n_estimators': 300}"
      ]
     },
     "execution_count": 37,
     "metadata": {},
     "output_type": "execute_result"
    }
   ],
   "source": [
    "#Finding the best values for our parametres \n",
    "gscv_rf.best_params_"
   ]
  },
  {
   "cell_type": "code",
   "execution_count": 38,
   "id": "93848b9f",
   "metadata": {},
   "outputs": [
    {
     "name": "stdout",
     "output_type": "stream",
     "text": [
      "Accuracy score for test data : 0.7660818713450293\n",
      "Accuracy score for train data : 0.8057790782735919\n"
     ]
    }
   ],
   "source": [
    "#Using the best values for our RF parametres\n",
    "#The accuracy scores for both our training and test data are similar to each other and hence, the model is neither an underfit nor an overfit\n",
    "rf_gscv =RandomForestClassifier(n_estimators = 400, criterion = 'gini', max_depth = 4, min_samples_split =8, min_samples_leaf = 2)\n",
    "rf_gscv.fit(X_train_sc, train_y)\n",
    "\n",
    "y_pred_gsvc = rf_gscv.predict(X_test_sc)\n",
    "y_pred_gsvc_train = rf_gscv.predict(X_train_sc)\n",
    "\n",
    "rf_gscv_as = metrics.accuracy_score(test_y, y_pred_gsvc)\n",
    "rf_gscv_train_as = metrics.accuracy_score(train_y, y_pred_gsvc_train)\n",
    "\n",
    "print(f\"Accuracy score for test data : {rf_gscv_as}\")\n",
    "print(f\"Accuracy score for train data : {rf_gscv_train_as}\")"
   ]
  },
  {
   "cell_type": "code",
   "execution_count": 39,
   "id": "b4ded0ea",
   "metadata": {},
   "outputs": [
    {
     "data": {
      "text/plain": [
       "<sklearn.metrics._plot.roc_curve.RocCurveDisplay at 0x1d56fd44520>"
      ]
     },
     "execution_count": 39,
     "metadata": {},
     "output_type": "execute_result"
    },
    {
     "data": {
      "image/png": "[encoded data removed]",
      "text/plain": [
       "<Figure size 432x288 with 1 Axes>"
      ]
     },
     "metadata": {
      "needs_background": "light"
     },
     "output_type": "display_data"
    }
   ],
   "source": [
    "#Plotting the AUC\n",
    "metrics.plot_roc_curve(rf_gscv, X_train_sc, train_y)"
   ]
  },
  {
   "cell_type": "markdown",
   "id": "7690d7c2",
   "metadata": {},
   "source": [
    "Step 7: Model Validation/Evaluation"
   ]
  },
  {
   "cell_type": "markdown",
   "id": "96b8cd87",
   "metadata": {},
   "source": [
    "1. Training Data"
   ]
  },
  {
   "cell_type": "code",
   "execution_count": 41,
   "id": "d8121a1c",
   "metadata": {},
   "outputs": [
    {
     "data": {
      "image/png": "[encoded data removed]",
      "text/plain": [
       "<Figure size 576x576 with 1 Axes>"
      ]
     },
     "metadata": {
      "needs_background": "light"
     },
     "output_type": "display_data"
    }
   ],
   "source": [
    "#We now construct the Confusion Matrix to validate our model on the train data\n",
    "from sklearn.metrics import confusion_matrix\n",
    "cm = confusion_matrix(train_y, rf_gscv.predict(X_train_sc))\n",
    "fig, ax = plt.subplots(figsize=(8, 8))\n",
    "ax.imshow(cm)\n",
    "ax.grid(False)\n",
    "ax.xaxis.set(ticks=(0, 1), ticklabels=('Predicted Non-Persistent', 'Predicted Persistent'))\n",
    "ax.yaxis.set(ticks=(0, 1), ticklabels=('Actual Non-Persistent', 'Actual Persistent'))\n",
    "ax.set_ylim(1.5, -0.5)\n",
    "for i in range(2):\n",
    "    for j in range(2):\n",
    "        ax.text(j, i, cm[i, j], ha='center', va='center', color='red')\n",
    "plt.show()"
   ]
  },
  {
   "cell_type": "code",
   "execution_count": 43,
   "id": "72ec2179",
   "metadata": {},
   "outputs": [
    {
     "name": "stdout",
     "output_type": "stream",
     "text": [
      "              precision    recall  f1-score   support\n",
      "\n",
      "           0       0.80      0.93      0.86      1724\n",
      "           1       0.83      0.60      0.69      1010\n",
      "\n",
      "    accuracy                           0.81      2734\n",
      "   macro avg       0.81      0.76      0.78      2734\n",
      "weighted avg       0.81      0.81      0.80      2734\n",
      "\n"
     ]
    }
   ],
   "source": [
    "#Classification Report\n",
    "from sklearn.metrics import classification_report\n",
    "print(classification_report(train_y, rf_gscv.predict(X_train_sc)))"
   ]
  },
  {
   "cell_type": "code",
   "execution_count": 44,
   "id": "f93faf9d",
   "metadata": {},
   "outputs": [
    {
     "name": "stdout",
     "output_type": "stream",
     "text": [
      "Accuracy for Non-Persistent : 0.9251740139211136\n",
      "Accuracy for Persistent : 0.602970297029703\n"
     ]
    }
   ],
   "source": [
    "#Checking Accuracy for each class\n",
    "print(f\"Accuracy for Non-Persistent : {1595/(1595+129)}\")\n",
    "print(f\"Accuracy for Persistent : {609/(401+609)}\")"
   ]
  },
  {
   "cell_type": "code",
   "execution_count": 45,
   "id": "a165f5b3",
   "metadata": {},
   "outputs": [
    {
     "data": {
      "text/plain": [
       "0.6946520989074181"
      ]
     },
     "execution_count": 45,
     "metadata": {},
     "output_type": "execute_result"
    }
   ],
   "source": [
    "#Generating the F1 Score\n",
    "from sklearn.metrics import f1_score\n",
    "f1_score(train_y, rf_gscv.predict(X_train_sc))"
   ]
  },
  {
   "cell_type": "markdown",
   "id": "02f1ce51",
   "metadata": {},
   "source": [
    "2. Test Data "
   ]
  },
  {
   "cell_type": "code",
   "execution_count": 46,
   "id": "ffc277bb",
   "metadata": {},
   "outputs": [
    {
     "data": {
      "image/png": "[encoded data removed]",
      "text/plain": [
       "<Figure size 576x576 with 1 Axes>"
      ]
     },
     "metadata": {
      "needs_background": "light"
     },
     "output_type": "display_data"
    }
   ],
   "source": [
    "#We now construct the Confusion Matrix to validate our model on the test data\n",
    "cm = confusion_matrix(test_y, rf_gscv.predict(X_test_sc))\n",
    "fig, ax = plt.subplots(figsize=(8, 8))\n",
    "ax.imshow(cm)\n",
    "ax.grid(False)\n",
    "ax.xaxis.set(ticks=(0, 1), ticklabels=('Predicted Non-Persistent', 'Predicted Persistent'))\n",
    "ax.yaxis.set(ticks=(0, 1), ticklabels=('Actual Non-Persistent', 'Actual Persistent'))\n",
    "ax.set_ylim(1.5, -0.5)\n",
    "for i in range(2):\n",
    "    for j in range(2):\n",
    "        ax.text(j, i, cm[i, j], ha='center', va='center', color='red')\n",
    "plt.show()"
   ]
  },
  {
   "cell_type": "code",
   "execution_count": 47,
   "id": "923ea2e1",
   "metadata": {},
   "outputs": [
    {
     "name": "stdout",
     "output_type": "stream",
     "text": [
      "              precision    recall  f1-score   support\n",
      "\n",
      "           0       0.75      0.91      0.82       405\n",
      "           1       0.81      0.56      0.66       279\n",
      "\n",
      "    accuracy                           0.77       684\n",
      "   macro avg       0.78      0.73      0.74       684\n",
      "weighted avg       0.77      0.77      0.76       684\n",
      "\n"
     ]
    }
   ],
   "source": [
    "#Classification Report\n",
    "print(classification_report(test_y, rf_gscv.predict(X_test_sc)))"
   ]
  },
  {
   "cell_type": "code",
   "execution_count": 48,
   "id": "98704d04",
   "metadata": {},
   "outputs": [
    {
     "name": "stdout",
     "output_type": "stream",
     "text": [
      "Accuracy for Non-Persistent : 0.908641975308642\n",
      "Accuracy for Persistent : 0.5698924731182796\n"
     ]
    }
   ],
   "source": [
    "#Checking Accuracy for each class\n",
    "print(f\"Accuracy for Non-Persistent : {368/(368+37)}\")\n",
    "print(f\"Accuracy for Persistent : {159/(120+159)}\")"
   ]
  },
  {
   "cell_type": "code",
   "execution_count": 49,
   "id": "b5faadf5",
   "metadata": {},
   "outputs": [
    {
     "data": {
      "text/plain": [
       "0.6595744680851064"
      ]
     },
     "execution_count": 49,
     "metadata": {},
     "output_type": "execute_result"
    }
   ],
   "source": [
    "#Generating the F1 Score\n",
    "from sklearn.metrics import f1_score\n",
    "f1_score(test_y, rf_gscv.predict(X_test_sc))"
   ]
  }
 ],
 "metadata": {
  "kernelspec": {
   "display_name": "Python 3",
   "language": "python",
   "name": "python3"
  },
  "language_info": {
   "codemirror_mode": {
    "name": "ipython",
    "version": 3
   },
   "file_extension": ".py",
   "mimetype": "text/x-python",
   "name": "python",
   "nbconvert_exporter": "python",
   "pygments_lexer": "ipython3",
   "version": "3.8.8"
  }
 },
 "nbformat": 4,
 "nbformat_minor": 5
}
